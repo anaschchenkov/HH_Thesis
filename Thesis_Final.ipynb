{
 "cells": [
  {
   "cell_type": "code",
   "execution_count": 1,
   "id": "1827b163-4046-4397-9560-27373ecc0e1e",
   "metadata": {},
   "outputs": [],
   "source": [
    "import pandas as pd\n",
    "import numpy as np\n",
    "import preprocessor as p\n",
    "import demoji\n",
    "\n",
    "#NLTK\n",
    "\n",
    "import nltk\n",
    "from nltk.corpus import stopwords\n",
    "from nltk.corpus import wordnet\n",
    "from nltk.tokenize import TweetTokenizer\n",
    "from nltk.stem import PorterStemmer, LancasterStemmer\n",
    "from nltk.stem.snowball import SnowballStemmer\n",
    "from nltk.stem import WordNetLemmatizer\n",
    "from nltk.tokenize import word_tokenize,sent_tokenize\n",
    "\n",
    "# Define a variable for stopwords search from NLTK\n",
    "\n",
    "stop_words = set(nltk.corpus.stopwords.words('english'))"
   ]
  },
  {
   "cell_type": "code",
   "execution_count": 2,
   "id": "b7d0b170-bd43-4ce8-8590-f196a3707a17",
   "metadata": {},
   "outputs": [],
   "source": [
    "# Read dataset\n",
    "\n",
    "file_path = 'C:\\\\Thesis\\\\Twittter\\\\220315 - Top 100 Airports Twitter 100 Airports Data 22 Dec 2021 - 14 Mar 2022.xlsx'\n",
    "\n",
    "twitter = pd.read_excel(file_path)"
   ]
  },
  {
   "cell_type": "markdown",
   "id": "1d53ec4c-4e45-46a8-bd52-9aef428fcb93",
   "metadata": {},
   "source": [
    "## Observation"
   ]
  },
  {
   "cell_type": "code",
   "execution_count": 3,
   "id": "80c9fd9f-d996-48cf-87ee-6395bf61caf4",
   "metadata": {},
   "outputs": [
    {
     "data": {
      "text/html": [
       "<div>\n",
       "<style scoped>\n",
       "    .dataframe tbody tr th:only-of-type {\n",
       "        vertical-align: middle;\n",
       "    }\n",
       "\n",
       "    .dataframe tbody tr th {\n",
       "        vertical-align: top;\n",
       "    }\n",
       "\n",
       "    .dataframe thead th {\n",
       "        text-align: right;\n",
       "    }\n",
       "</style>\n",
       "<table border=\"1\" class=\"dataframe\">\n",
       "  <thead>\n",
       "    <tr style=\"text-align: right;\">\n",
       "      <th></th>\n",
       "      <th>Date</th>\n",
       "      <th>Screen Name</th>\n",
       "      <th>Full Name</th>\n",
       "      <th>Tweet Text</th>\n",
       "      <th>Tweet ID</th>\n",
       "      <th>App</th>\n",
       "      <th>Followers</th>\n",
       "      <th>Follows</th>\n",
       "      <th>Retweets</th>\n",
       "      <th>Favorites</th>\n",
       "      <th>Verfied</th>\n",
       "      <th>User Since</th>\n",
       "      <th>Location</th>\n",
       "      <th>Bio</th>\n",
       "      <th>Profile Image</th>\n",
       "      <th>Google Maps</th>\n",
       "    </tr>\n",
       "  </thead>\n",
       "  <tbody>\n",
       "    <tr>\n",
       "      <th>0</th>\n",
       "      <td>2021-12-22 20:24:43</td>\n",
       "      <td>@BruinUpSomeChou</td>\n",
       "      <td>Vincent Chou</td>\n",
       "      <td>@Airport_FRA Lost my wallet and even though it...</td>\n",
       "      <td>1473668328401084426</td>\n",
       "      <td>Twitter for Android</td>\n",
       "      <td>33</td>\n",
       "      <td>109</td>\n",
       "      <td>0</td>\n",
       "      <td>0</td>\n",
       "      <td>No</td>\n",
       "      <td>2011-12-23 08:18:03</td>\n",
       "      <td>Dallas, TX</td>\n",
       "      <td>I'm bad at Twitter</td>\n",
       "      <td>View</td>\n",
       "      <td>NaN</td>\n",
       "    </tr>\n",
       "    <tr>\n",
       "      <th>1</th>\n",
       "      <td>2021-12-22 20:37:49</td>\n",
       "      <td>@OmeirHumble</td>\n",
       "      <td>Khan Sahab</td>\n",
       "      <td>@fly2ohare @thepointsguy 😂😂😂</td>\n",
       "      <td>1473671624188735491</td>\n",
       "      <td>Twitter for iPhone</td>\n",
       "      <td>19</td>\n",
       "      <td>570</td>\n",
       "      <td>0</td>\n",
       "      <td>0</td>\n",
       "      <td>No</td>\n",
       "      <td>2020-08-20 01:10:25</td>\n",
       "      <td>Dubai, United Arab Emirates</td>\n",
       "      <td>An ordinary person lucky enough to have lived ...</td>\n",
       "      <td>View</td>\n",
       "      <td>NaN</td>\n",
       "    </tr>\n",
       "    <tr>\n",
       "      <th>2</th>\n",
       "      <td>2021-12-22 20:37:55</td>\n",
       "      <td>@fly2midway</td>\n",
       "      <td>Midway Intl. Airport</td>\n",
       "      <td>@fly2ohare @thepointsguy 😉 https://t.co/sBlF7S...</td>\n",
       "      <td>1473671648834318337</td>\n",
       "      <td>Twitter for iPhone</td>\n",
       "      <td>20867</td>\n",
       "      <td>219</td>\n",
       "      <td>1</td>\n",
       "      <td>6</td>\n",
       "      <td>No</td>\n",
       "      <td>2011-10-03 22:53:50</td>\n",
       "      <td>Chicago, IL USA</td>\n",
       "      <td>The official Midway International Airport twit...</td>\n",
       "      <td>View</td>\n",
       "      <td>NaN</td>\n",
       "    </tr>\n",
       "    <tr>\n",
       "      <th>3</th>\n",
       "      <td>2021-12-22 20:38:46</td>\n",
       "      <td>@haysdewy</td>\n",
       "      <td>haysdewy</td>\n",
       "      <td>RT @fly2midway: @fly2ohare @thepointsguy 😉 htt...</td>\n",
       "      <td>1473671865658920960</td>\n",
       "      <td>Twitter Web App</td>\n",
       "      <td>30</td>\n",
       "      <td>287</td>\n",
       "      <td>1</td>\n",
       "      <td>0</td>\n",
       "      <td>No</td>\n",
       "      <td>2021-01-28 22:25:02</td>\n",
       "      <td>Soo Foo, So Dak 57110</td>\n",
       "      <td>Christian softball natural mama &amp; wifey. Retir...</td>\n",
       "      <td>View</td>\n",
       "      <td>NaN</td>\n",
       "    </tr>\n",
       "    <tr>\n",
       "      <th>4</th>\n",
       "      <td>2021-12-22 20:40:16</td>\n",
       "      <td>@lemahevad</td>\n",
       "      <td>Dave in Cedar Rapids</td>\n",
       "      <td>@fly2ohare @thepointsguy Ooh, how do I say thi...</td>\n",
       "      <td>1473672241040830465</td>\n",
       "      <td>Twitter Web App</td>\n",
       "      <td>167</td>\n",
       "      <td>722</td>\n",
       "      <td>0</td>\n",
       "      <td>0</td>\n",
       "      <td>No</td>\n",
       "      <td>2008-12-02 21:57:00</td>\n",
       "      <td>CID, more often than not</td>\n",
       "      <td>Let me tell you why your airplane is broken. S...</td>\n",
       "      <td>View</td>\n",
       "      <td>NaN</td>\n",
       "    </tr>\n",
       "    <tr>\n",
       "      <th>5</th>\n",
       "      <td>2021-12-22 20:48:41</td>\n",
       "      <td>@Jeffa9311</td>\n",
       "      <td>Jeffa</td>\n",
       "      <td>@fly2ohare @thepointsguy https://t.co/ltODWTBklb</td>\n",
       "      <td>1473674360636551176</td>\n",
       "      <td>Twitter for Android</td>\n",
       "      <td>67</td>\n",
       "      <td>489</td>\n",
       "      <td>0</td>\n",
       "      <td>0</td>\n",
       "      <td>No</td>\n",
       "      <td>2014-05-29 19:41:18</td>\n",
       "      <td>The Moon</td>\n",
       "      <td>Amateur golfer and gambler. Professional insti...</td>\n",
       "      <td>View</td>\n",
       "      <td>NaN</td>\n",
       "    </tr>\n",
       "    <tr>\n",
       "      <th>6</th>\n",
       "      <td>2021-12-22 21:11:41</td>\n",
       "      <td>@KKIASA</td>\n",
       "      <td>RUH |مطار الملك خالد</td>\n",
       "      <td>Your passport is your identity when traveling,...</td>\n",
       "      <td>1473680148226621442</td>\n",
       "      <td>Twitter for iPhone</td>\n",
       "      <td>263541</td>\n",
       "      <td>12</td>\n",
       "      <td>2</td>\n",
       "      <td>3</td>\n",
       "      <td>No</td>\n",
       "      <td>2015-07-16 23:23:29</td>\n",
       "      <td>Riyadh</td>\n",
       "      <td>الحساب الرسمي لمطار الملك خالد الدولي بمدينة ا...</td>\n",
       "      <td>View</td>\n",
       "      <td>NaN</td>\n",
       "    </tr>\n",
       "    <tr>\n",
       "      <th>7</th>\n",
       "      <td>2021-12-22 21:12:00</td>\n",
       "      <td>@bkuuunks</td>\n",
       "      <td>BK 👑</td>\n",
       "      <td>@fly2ohare @thepointsguy https://t.co/ahvsY8QP5q</td>\n",
       "      <td>1473680228706889748</td>\n",
       "      <td>Twitter for iPhone</td>\n",
       "      <td>153</td>\n",
       "      <td>194</td>\n",
       "      <td>0</td>\n",
       "      <td>0</td>\n",
       "      <td>No</td>\n",
       "      <td>2011-05-05 14:40:12</td>\n",
       "      <td>USA</td>\n",
       "      <td>NaN</td>\n",
       "      <td>View</td>\n",
       "      <td>NaN</td>\n",
       "    </tr>\n",
       "    <tr>\n",
       "      <th>8</th>\n",
       "      <td>2021-12-22 21:12:45</td>\n",
       "      <td>@oPekAK133kyw5i7</td>\n",
       "      <td>ابو فيصل</td>\n",
       "      <td>@KKIASA *لـقـاح كـارونـا بـدون حـضـور* *الـجـر...</td>\n",
       "      <td>1473680414283870217</td>\n",
       "      <td>Twitter for Android</td>\n",
       "      <td>79</td>\n",
       "      <td>306</td>\n",
       "      <td>0</td>\n",
       "      <td>0</td>\n",
       "      <td>No</td>\n",
       "      <td>2021-08-19 10:43:08</td>\n",
       "      <td>المملكة العربية السعودية</td>\n",
       "      <td>مكتب للخدمات العامه</td>\n",
       "      <td>View</td>\n",
       "      <td>NaN</td>\n",
       "    </tr>\n",
       "    <tr>\n",
       "      <th>9</th>\n",
       "      <td>2021-12-22 21:17:28</td>\n",
       "      <td>@cecinchilla_</td>\n",
       "      <td>Cecilia⁷</td>\n",
       "      <td>@MiAirports Buonasera. Come devo comportarmi s...</td>\n",
       "      <td>1473681602869960714</td>\n",
       "      <td>Twitter Web App</td>\n",
       "      <td>1201</td>\n",
       "      <td>704</td>\n",
       "      <td>0</td>\n",
       "      <td>0</td>\n",
       "      <td>No</td>\n",
       "      <td>2020-06-05 23:27:17</td>\n",
       "      <td>she/her</td>\n",
       "      <td>ceci you are the reason why men are gay. — Fox...</td>\n",
       "      <td>View</td>\n",
       "      <td>NaN</td>\n",
       "    </tr>\n",
       "  </tbody>\n",
       "</table>\n",
       "</div>"
      ],
      "text/plain": [
       "                 Date       Screen Name             Full Name  \\\n",
       "0 2021-12-22 20:24:43  @BruinUpSomeChou          Vincent Chou   \n",
       "1 2021-12-22 20:37:49      @OmeirHumble            Khan Sahab   \n",
       "2 2021-12-22 20:37:55       @fly2midway  Midway Intl. Airport   \n",
       "3 2021-12-22 20:38:46         @haysdewy              haysdewy   \n",
       "4 2021-12-22 20:40:16        @lemahevad  Dave in Cedar Rapids   \n",
       "5 2021-12-22 20:48:41        @Jeffa9311                 Jeffa   \n",
       "6 2021-12-22 21:11:41           @KKIASA  RUH |مطار الملك خالد   \n",
       "7 2021-12-22 21:12:00         @bkuuunks                  BK 👑   \n",
       "8 2021-12-22 21:12:45  @oPekAK133kyw5i7              ابو فيصل   \n",
       "9 2021-12-22 21:17:28     @cecinchilla_              Cecilia⁷   \n",
       "\n",
       "                                          Tweet Text             Tweet ID  \\\n",
       "0  @Airport_FRA Lost my wallet and even though it...  1473668328401084426   \n",
       "1                       @fly2ohare @thepointsguy 😂😂😂  1473671624188735491   \n",
       "2  @fly2ohare @thepointsguy 😉 https://t.co/sBlF7S...  1473671648834318337   \n",
       "3  RT @fly2midway: @fly2ohare @thepointsguy 😉 htt...  1473671865658920960   \n",
       "4  @fly2ohare @thepointsguy Ooh, how do I say thi...  1473672241040830465   \n",
       "5   @fly2ohare @thepointsguy https://t.co/ltODWTBklb  1473674360636551176   \n",
       "6  Your passport is your identity when traveling,...  1473680148226621442   \n",
       "7   @fly2ohare @thepointsguy https://t.co/ahvsY8QP5q  1473680228706889748   \n",
       "8  @KKIASA *لـقـاح كـارونـا بـدون حـضـور* *الـجـر...  1473680414283870217   \n",
       "9  @MiAirports Buonasera. Come devo comportarmi s...  1473681602869960714   \n",
       "\n",
       "                   App  Followers  Follows  Retweets  Favorites Verfied  \\\n",
       "0  Twitter for Android         33      109         0          0      No   \n",
       "1   Twitter for iPhone         19      570         0          0      No   \n",
       "2   Twitter for iPhone      20867      219         1          6      No   \n",
       "3      Twitter Web App         30      287         1          0      No   \n",
       "4      Twitter Web App        167      722         0          0      No   \n",
       "5  Twitter for Android         67      489         0          0      No   \n",
       "6   Twitter for iPhone     263541       12         2          3      No   \n",
       "7   Twitter for iPhone        153      194         0          0      No   \n",
       "8  Twitter for Android         79      306         0          0      No   \n",
       "9      Twitter Web App       1201      704         0          0      No   \n",
       "\n",
       "           User Since                     Location  \\\n",
       "0 2011-12-23 08:18:03                   Dallas, TX   \n",
       "1 2020-08-20 01:10:25  Dubai, United Arab Emirates   \n",
       "2 2011-10-03 22:53:50              Chicago, IL USA   \n",
       "3 2021-01-28 22:25:02        Soo Foo, So Dak 57110   \n",
       "4 2008-12-02 21:57:00     CID, more often than not   \n",
       "5 2014-05-29 19:41:18                     The Moon   \n",
       "6 2015-07-16 23:23:29                       Riyadh   \n",
       "7 2011-05-05 14:40:12                          USA   \n",
       "8 2021-08-19 10:43:08     المملكة العربية السعودية   \n",
       "9 2020-06-05 23:27:17                      she/her   \n",
       "\n",
       "                                                 Bio Profile Image Google Maps  \n",
       "0                                 I'm bad at Twitter          View         NaN  \n",
       "1  An ordinary person lucky enough to have lived ...          View         NaN  \n",
       "2  The official Midway International Airport twit...          View         NaN  \n",
       "3  Christian softball natural mama & wifey. Retir...          View         NaN  \n",
       "4  Let me tell you why your airplane is broken. S...          View         NaN  \n",
       "5  Amateur golfer and gambler. Professional insti...          View         NaN  \n",
       "6  الحساب الرسمي لمطار الملك خالد الدولي بمدينة ا...          View         NaN  \n",
       "7                                                NaN          View         NaN  \n",
       "8                                مكتب للخدمات العامه          View         NaN  \n",
       "9  ceci you are the reason why men are gay. — Fox...          View         NaN  "
      ]
     },
     "execution_count": 3,
     "metadata": {},
     "output_type": "execute_result"
    }
   ],
   "source": [
    "twitter.head(10)"
   ]
  },
  {
   "cell_type": "code",
   "execution_count": 4,
   "id": "58279c23-00fc-40fd-8785-1f313d9377fd",
   "metadata": {},
   "outputs": [
    {
     "data": {
      "text/plain": [
       "pandas.core.frame.DataFrame"
      ]
     },
     "execution_count": 4,
     "metadata": {},
     "output_type": "execute_result"
    }
   ],
   "source": [
    "type(twitter)"
   ]
  },
  {
   "cell_type": "code",
   "execution_count": 5,
   "id": "9da686b4-dcd5-4885-9aa2-4d2b40ae83e8",
   "metadata": {},
   "outputs": [
    {
     "data": {
      "text/plain": [
       "40124"
      ]
     },
     "execution_count": 5,
     "metadata": {},
     "output_type": "execute_result"
    }
   ],
   "source": [
    "len(twitter)"
   ]
  },
  {
   "cell_type": "code",
   "execution_count": 6,
   "id": "15dea88c-6728-46ae-8c05-a358b2cae5e2",
   "metadata": {},
   "outputs": [
    {
     "data": {
      "text/plain": [
       "(40124, 16)"
      ]
     },
     "execution_count": 6,
     "metadata": {},
     "output_type": "execute_result"
    }
   ],
   "source": [
    "twitter.shape"
   ]
  },
  {
   "cell_type": "code",
   "execution_count": 7,
   "id": "e4396fd1-dcc8-44e5-86c7-45e52aef29c8",
   "metadata": {},
   "outputs": [
    {
     "name": "stdout",
     "output_type": "stream",
     "text": [
      "<class 'pandas.core.frame.DataFrame'>\n",
      "RangeIndex: 40124 entries, 0 to 40123\n",
      "Data columns (total 16 columns):\n",
      " #   Column         Non-Null Count  Dtype         \n",
      "---  ------         --------------  -----         \n",
      " 0   Date           40124 non-null  datetime64[ns]\n",
      " 1   Screen Name    40124 non-null  object        \n",
      " 2   Full Name      40118 non-null  object        \n",
      " 3   Tweet Text     40124 non-null  object        \n",
      " 4   Tweet ID       40124 non-null  int64         \n",
      " 5   App            40124 non-null  object        \n",
      " 6   Followers      40124 non-null  int64         \n",
      " 7   Follows        40124 non-null  int64         \n",
      " 8   Retweets       40124 non-null  int64         \n",
      " 9   Favorites      40124 non-null  int64         \n",
      " 10  Verfied        40124 non-null  object        \n",
      " 11  User Since     40124 non-null  datetime64[ns]\n",
      " 12  Location       24872 non-null  object        \n",
      " 13  Bio            28159 non-null  object        \n",
      " 14  Profile Image  40124 non-null  object        \n",
      " 15  Google Maps    1 non-null      object        \n",
      "dtypes: datetime64[ns](2), int64(5), object(9)\n",
      "memory usage: 4.9+ MB\n"
     ]
    }
   ],
   "source": [
    "twitter.info()"
   ]
  },
  {
   "cell_type": "code",
   "execution_count": 8,
   "id": "a75348f2-0c03-4350-844e-a28e9dd956be",
   "metadata": {},
   "outputs": [
    {
     "name": "stdout",
     "output_type": "stream",
     "text": [
      "0\n"
     ]
    }
   ],
   "source": [
    "print(sum(twitter['Tweet Text'].isnull()))"
   ]
  },
  {
   "cell_type": "markdown",
   "id": "79637a5e-c440-4931-aeba-d394e8070203",
   "metadata": {},
   "source": [
    "## Preprocessing"
   ]
  },
  {
   "cell_type": "markdown",
   "id": "bec55400-b5ca-4d01-969c-4ff9a8bbc18f",
   "metadata": {},
   "source": [
    "### Basic cleaning of tweets"
   ]
  },
  {
   "cell_type": "code",
   "execution_count": 9,
   "id": "0dc792d2-613d-4053-b273-01df96a30379",
   "metadata": {},
   "outputs": [
    {
     "data": {
      "text/plain": [
       "['@Airport_FRA Lost my wallet and even though it was found (announced over intercom but could not pick up because of… https://t.co/Cw9RUO2Ou0',\n",
       " '@fly2ohare @thepointsguy 😂😂😂',\n",
       " '@fly2ohare @thepointsguy 😉 https://t.co/sBlF7SBcT8',\n",
       " 'RT @fly2midway: @fly2ohare @thepointsguy 😉 https://t.co/sBlF7SBcT8',\n",
       " '@fly2ohare @thepointsguy Ooh, how do I say this gently...',\n",
       " '@fly2ohare @thepointsguy https://t.co/ltODWTBklb',\n",
       " 'Your passport is your identity when traveling, So keep it safe. #KKIA🛂',\n",
       " '@fly2ohare @thepointsguy https://t.co/ahvsY8QP5q',\n",
       " '@KKIASA *لـقـاح كـارونـا بـدون حـضـور* *الـجـرعـه الاولـه* *الـجـرعـه الثانيه* *الـجـرعـه الـثالـثه* *( شــغــال… https://t.co/gjT21qZfGR',\n",
       " \"@MiAirports Buonasera. Come devo comportarmi se voglio trasportare un'arma giocattolo in aereo? é fatta di plastica… https://t.co/OAjUZ0YNGZ\"]"
      ]
     },
     "execution_count": 9,
     "metadata": {},
     "output_type": "execute_result"
    }
   ],
   "source": [
    "# Create a list with tweet texts\n",
    "\n",
    "text = list(twitter['Tweet Text'])\n",
    "text[:10]"
   ]
  },
  {
   "cell_type": "code",
   "execution_count": 10,
   "id": "9bdb1454-9f97-493a-8aaa-0ba0c6526719",
   "metadata": {},
   "outputs": [
    {
     "data": {
      "text/plain": [
       "['Lost my wallet and even though it was found (announced over intercom but could not pick up because of',\n",
       " 'Ooh, how do I say this gently...',\n",
       " 'Your passport is your identity when traveling, So keep it safe.',\n",
       " \"Buonasera. Come devo comportarmi se voglio trasportare un'arma giocattolo in aereo? fatta di plastica\",\n",
       " 'What was the max TSA time yesterday?',\n",
       " 'KSFO All the way United is the best airline and it is a hub at the Best airport and the corbra tower helps them with ATC!',\n",
       " 'off to Oahu for a few days.',\n",
       " \"My inquiry is V14331/21. I don't mean to be pushy, but I am unable to drive since it has my driver's l\",\n",
       " 'The tree decorated by features a colorful mix of ornaments- including DIY bulb ornaments with staff name',\n",
       " 'One day Ill try to miss a flight in your airport, too!',\n",
       " 'Evite vestir con objetos metlicos, ahorrar tiempo al pasar por los filtros de seguridad en aero',\n",
       " 'merry christmas',\n",
       " 'ohh this is neat!',\n",
       " 'Sure thing!',\n",
       " 'Oh Matilda',\n",
       " 'BCL - Barcelona',\n",
       " 'or maybe go direct from Really bored with your Lufthansa shit now',\n",
       " 'Get & get your booster shot! is hosting a COVID-19 vaccination clinic in partnership with',\n",
       " 'Probably Spend more money on the dogs than the Custodians',\n",
       " 'Precious!']"
      ]
     },
     "execution_count": 10,
     "metadata": {},
     "output_type": "execute_result"
    }
   ],
   "source": [
    "# Filter out mentions, URLs, hashtags and s.f. using Preprocessor\n",
    "\n",
    "def preprocess_tweets(text):\n",
    "    preprocessed_tweets = [p.clean(tweet) for tweet in text]\n",
    "    return preprocessed_tweets\n",
    "\n",
    "processed_tweets = preprocess_tweets(text)\n",
    "\n",
    "#Remove short messages containing less than 3 characters or not containing characters at all\n",
    "\n",
    "filtered_tweets = [tweet for tweet in processed_tweets if len(tweet) >= 3 and any(char.isalpha() for char in tweet)]\n",
    "\n",
    "filtered_tweets[:20]"
   ]
  },
  {
   "cell_type": "code",
   "execution_count": 11,
   "id": "bdab8547-7fa5-458a-9beb-d66de828dee3",
   "metadata": {},
   "outputs": [
    {
     "data": {
      "text/plain": [
       "34224"
      ]
     },
     "execution_count": 11,
     "metadata": {},
     "output_type": "execute_result"
    }
   ],
   "source": [
    "# Check the number of tweets after filtering\n",
    "\n",
    "len(filtered_tweets)"
   ]
  },
  {
   "cell_type": "code",
   "execution_count": 12,
   "id": "12663ecb-5d73-4d74-8f18-abe5a40e1756",
   "metadata": {},
   "outputs": [
    {
     "data": {
      "text/plain": [
       "24271"
      ]
     },
     "execution_count": 12,
     "metadata": {},
     "output_type": "execute_result"
    }
   ],
   "source": [
    "# Detect tweets written in English with the langdetect module\n",
    "\n",
    "from langdetect import detect\n",
    "\n",
    "def is_english(english_tweet):\n",
    "    english_t = [t for t in english_tweet if detect(t) == 'en']\n",
    "    return english_t\n",
    "\n",
    "english_tweets = is_english(filtered_tweets)\n",
    "\n",
    "# check the number of English-written messages\n",
    "\n",
    "len(english_tweets)"
   ]
  },
  {
   "cell_type": "code",
   "execution_count": 13,
   "id": "6329293e-d0b0-43fd-9f5f-ed8c4f0dc3ad",
   "metadata": {},
   "outputs": [
    {
     "data": {
      "text/plain": [
       "['Lost my wallet and even though it was found (announced over intercom but could not pick up because of',\n",
       " 'Ooh, how do I say this gently...',\n",
       " 'Your passport is your identity when traveling, So keep it safe.',\n",
       " 'What was the max TSA time yesterday?',\n",
       " 'KSFO All the way United is the best airline and it is a hub at the Best airport and the corbra tower helps them with ATC!',\n",
       " 'off to Oahu for a few days.',\n",
       " \"My inquiry is V14331/21. I don't mean to be pushy, but I am unable to drive since it has my driver's l\",\n",
       " 'The tree decorated by features a colorful mix of ornaments- including DIY bulb ornaments with staff name',\n",
       " 'One day Ill try to miss a flight in your airport, too!',\n",
       " 'merry christmas',\n",
       " 'ohh this is neat!',\n",
       " 'Sure thing!',\n",
       " 'or maybe go direct from Really bored with your Lufthansa shit now',\n",
       " 'Get & get your booster shot! is hosting a COVID-19 vaccination clinic in partnership with',\n",
       " 'Probably Spend more money on the dogs than the Custodians',\n",
       " 'Precious!',\n",
       " 'Your airport is utter garbage ORD',\n",
       " 'Maybe keep cameras and vet staff so items arent stolen from paying customers as well. And then to have',\n",
       " '& dont pack anything that you dont want stolen! could care less about finding it',\n",
       " 'Dont forget to remind that are trying to help with the pandemic that you could care l']"
      ]
     },
     "execution_count": 13,
     "metadata": {},
     "output_type": "execute_result"
    }
   ],
   "source": [
    "english_tweets[:20]"
   ]
  },
  {
   "cell_type": "code",
   "execution_count": 14,
   "id": "601bc3fe-03f2-4ece-90a5-3854e8023993",
   "metadata": {},
   "outputs": [
    {
     "data": {
      "text/html": [
       "<div>\n",
       "<style scoped>\n",
       "    .dataframe tbody tr th:only-of-type {\n",
       "        vertical-align: middle;\n",
       "    }\n",
       "\n",
       "    .dataframe tbody tr th {\n",
       "        vertical-align: top;\n",
       "    }\n",
       "\n",
       "    .dataframe thead th {\n",
       "        text-align: right;\n",
       "    }\n",
       "</style>\n",
       "<table border=\"1\" class=\"dataframe\">\n",
       "  <thead>\n",
       "    <tr style=\"text-align: right;\">\n",
       "      <th></th>\n",
       "      <th>Original_Tweets</th>\n",
       "    </tr>\n",
       "  </thead>\n",
       "  <tbody>\n",
       "    <tr>\n",
       "      <th>0</th>\n",
       "      <td>Lost my wallet and even though it was found (a...</td>\n",
       "    </tr>\n",
       "    <tr>\n",
       "      <th>1</th>\n",
       "      <td>Ooh, how do I say this gently...</td>\n",
       "    </tr>\n",
       "    <tr>\n",
       "      <th>2</th>\n",
       "      <td>Your passport is your identity when traveling,...</td>\n",
       "    </tr>\n",
       "    <tr>\n",
       "      <th>3</th>\n",
       "      <td>What was the max TSA time yesterday?</td>\n",
       "    </tr>\n",
       "    <tr>\n",
       "      <th>4</th>\n",
       "      <td>KSFO All the way United is the best airline an...</td>\n",
       "    </tr>\n",
       "    <tr>\n",
       "      <th>5</th>\n",
       "      <td>off to Oahu for a few days.</td>\n",
       "    </tr>\n",
       "    <tr>\n",
       "      <th>6</th>\n",
       "      <td>My inquiry is V14331/21. I don't mean to be pu...</td>\n",
       "    </tr>\n",
       "    <tr>\n",
       "      <th>7</th>\n",
       "      <td>The tree decorated by features a colorful mix ...</td>\n",
       "    </tr>\n",
       "    <tr>\n",
       "      <th>8</th>\n",
       "      <td>One day Ill try to miss a flight in your airpo...</td>\n",
       "    </tr>\n",
       "    <tr>\n",
       "      <th>9</th>\n",
       "      <td>merry christmas</td>\n",
       "    </tr>\n",
       "  </tbody>\n",
       "</table>\n",
       "</div>"
      ],
      "text/plain": [
       "                                     Original_Tweets\n",
       "0  Lost my wallet and even though it was found (a...\n",
       "1                   Ooh, how do I say this gently...\n",
       "2  Your passport is your identity when traveling,...\n",
       "3               What was the max TSA time yesterday?\n",
       "4  KSFO All the way United is the best airline an...\n",
       "5                        off to Oahu for a few days.\n",
       "6  My inquiry is V14331/21. I don't mean to be pu...\n",
       "7  The tree decorated by features a colorful mix ...\n",
       "8  One day Ill try to miss a flight in your airpo...\n",
       "9                                    merry christmas"
      ]
     },
     "execution_count": 14,
     "metadata": {},
     "output_type": "execute_result"
    }
   ],
   "source": [
    "processed_twitter = pd.DataFrame(english_tweets, columns=['Original_Tweets'])\n",
    "\n",
    "processed_twitter.head(10)"
   ]
  },
  {
   "cell_type": "markdown",
   "id": "b092b6b2-307c-4bd6-9449-97d254748941",
   "metadata": {},
   "source": [
    "### Lemmatization"
   ]
  },
  {
   "cell_type": "code",
   "execution_count": 15,
   "id": "3133cbba-9a35-4ef5-9a14-e65ba88ea3da",
   "metadata": {},
   "outputs": [
    {
     "name": "stdout",
     "output_type": "stream",
     "text": [
      "NLTK resources are not downloaded. Downloading...\n",
      "NLTK resources downloaded successfully.\n"
     ]
    },
    {
     "name": "stderr",
     "output_type": "stream",
     "text": [
      "[nltk_data] Downloading package punkt to\n",
      "[nltk_data]     C:\\Users\\anash\\AppData\\Roaming\\nltk_data...\n",
      "[nltk_data]   Package punkt is already up-to-date!\n",
      "[nltk_data] Downloading package averaged_perceptron_tagger to\n",
      "[nltk_data]     C:\\Users\\anash\\AppData\\Roaming\\nltk_data...\n",
      "[nltk_data]   Package averaged_perceptron_tagger is already up-to-\n",
      "[nltk_data]       date!\n",
      "[nltk_data] Downloading package wordnet to\n",
      "[nltk_data]     C:\\Users\\anash\\AppData\\Roaming\\nltk_data...\n",
      "[nltk_data]   Package wordnet is already up-to-date!\n"
     ]
    }
   ],
   "source": [
    "# Check if NLTK corpora resources are present, download if not\n",
    "\n",
    "def check_nltk():\n",
    "    try:\n",
    "        nltk.data.find('tokenizers/punkt')\n",
    "        nltk.data.find('taggers/averaged_perceptron_tagger')\n",
    "        nltk.data.find('corpora/wordnet')\n",
    "        print(\"NLTK resources are downloaded.\")\n",
    "    except LookupError:\n",
    "        print(\"NLTK resources are not downloaded. Downloading...\")\n",
    "        nltk.download('punkt')\n",
    "        nltk.download('averaged_perceptron_tagger')\n",
    "        nltk.download('wordnet')\n",
    "        print(\"NLTK resources downloaded successfully.\")\n",
    "\n",
    "check_nltk()"
   ]
  },
  {
   "cell_type": "code",
   "execution_count": 16,
   "id": "17dac33f-cf7c-4732-89db-c175e65acaa4",
   "metadata": {},
   "outputs": [
    {
     "data": {
      "text/html": [
       "<div>\n",
       "<style scoped>\n",
       "    .dataframe tbody tr th:only-of-type {\n",
       "        vertical-align: middle;\n",
       "    }\n",
       "\n",
       "    .dataframe tbody tr th {\n",
       "        vertical-align: top;\n",
       "    }\n",
       "\n",
       "    .dataframe thead th {\n",
       "        text-align: right;\n",
       "    }\n",
       "</style>\n",
       "<table border=\"1\" class=\"dataframe\">\n",
       "  <thead>\n",
       "    <tr style=\"text-align: right;\">\n",
       "      <th></th>\n",
       "      <th>Original_Tweets</th>\n",
       "      <th>Lemm_Tweets</th>\n",
       "    </tr>\n",
       "  </thead>\n",
       "  <tbody>\n",
       "    <tr>\n",
       "      <th>0</th>\n",
       "      <td>Lost my wallet and even though it was found (a...</td>\n",
       "      <td>Lost my wallet and even though it be find ( an...</td>\n",
       "    </tr>\n",
       "    <tr>\n",
       "      <th>1</th>\n",
       "      <td>Ooh, how do I say this gently...</td>\n",
       "      <td>Ooh , how do I say this gently ...</td>\n",
       "    </tr>\n",
       "    <tr>\n",
       "      <th>2</th>\n",
       "      <td>Your passport is your identity when traveling,...</td>\n",
       "      <td>Your passport be your identity when traveling ...</td>\n",
       "    </tr>\n",
       "    <tr>\n",
       "      <th>3</th>\n",
       "      <td>What was the max TSA time yesterday?</td>\n",
       "      <td>What be the max TSA time yesterday ?</td>\n",
       "    </tr>\n",
       "    <tr>\n",
       "      <th>4</th>\n",
       "      <td>KSFO All the way United is the best airline an...</td>\n",
       "      <td>KSFO All the way United be the best airline an...</td>\n",
       "    </tr>\n",
       "    <tr>\n",
       "      <th>5</th>\n",
       "      <td>off to Oahu for a few days.</td>\n",
       "      <td>off to Oahu for a few day .</td>\n",
       "    </tr>\n",
       "    <tr>\n",
       "      <th>6</th>\n",
       "      <td>My inquiry is V14331/21. I don't mean to be pu...</td>\n",
       "      <td>My inquiry be V14331/21 . I do n't mean to be ...</td>\n",
       "    </tr>\n",
       "    <tr>\n",
       "      <th>7</th>\n",
       "      <td>The tree decorated by features a colorful mix ...</td>\n",
       "      <td>The tree decorate by feature a colorful mix of...</td>\n",
       "    </tr>\n",
       "    <tr>\n",
       "      <th>8</th>\n",
       "      <td>One day Ill try to miss a flight in your airpo...</td>\n",
       "      <td>One day Ill try to miss a flight in your airpo...</td>\n",
       "    </tr>\n",
       "    <tr>\n",
       "      <th>9</th>\n",
       "      <td>merry christmas</td>\n",
       "      <td>merry christmas</td>\n",
       "    </tr>\n",
       "  </tbody>\n",
       "</table>\n",
       "</div>"
      ],
      "text/plain": [
       "                                     Original_Tweets  \\\n",
       "0  Lost my wallet and even though it was found (a...   \n",
       "1                   Ooh, how do I say this gently...   \n",
       "2  Your passport is your identity when traveling,...   \n",
       "3               What was the max TSA time yesterday?   \n",
       "4  KSFO All the way United is the best airline an...   \n",
       "5                        off to Oahu for a few days.   \n",
       "6  My inquiry is V14331/21. I don't mean to be pu...   \n",
       "7  The tree decorated by features a colorful mix ...   \n",
       "8  One day Ill try to miss a flight in your airpo...   \n",
       "9                                    merry christmas   \n",
       "\n",
       "                                         Lemm_Tweets  \n",
       "0  Lost my wallet and even though it be find ( an...  \n",
       "1                 Ooh , how do I say this gently ...  \n",
       "2  Your passport be your identity when traveling ...  \n",
       "3               What be the max TSA time yesterday ?  \n",
       "4  KSFO All the way United be the best airline an...  \n",
       "5                        off to Oahu for a few day .  \n",
       "6  My inquiry be V14331/21 . I do n't mean to be ...  \n",
       "7  The tree decorate by feature a colorful mix of...  \n",
       "8  One day Ill try to miss a flight in your airpo...  \n",
       "9                                    merry christmas  "
      ]
     },
     "execution_count": 16,
     "metadata": {},
     "output_type": "execute_result"
    }
   ],
   "source": [
    "# Define lemmatization function\n",
    "def lemmatize_text(text):\n",
    "    lemmatizer = WordNetLemmatizer()\n",
    "    tokens = nltk.word_tokenize(text)\n",
    "    lemmatized_tokens = [lemmatizer.lemmatize(token, get_wordnet_pos(tag))\n",
    "                         for token, tag in nltk.pos_tag(tokens)]\n",
    "    return ' '.join(lemmatized_tokens)\n",
    "\n",
    "def get_wordnet_pos(treebank_tag):\n",
    "    if treebank_tag.startswith('J'):\n",
    "        return wordnet.ADJ\n",
    "    elif treebank_tag.startswith('V'):\n",
    "        return wordnet.VERB\n",
    "    elif treebank_tag.startswith('N'):\n",
    "        return wordnet.NOUN\n",
    "    elif treebank_tag.startswith('R'):\n",
    "        return wordnet.ADV\n",
    "    else:\n",
    "        return wordnet.NOUN  # Default to noun if no specific POS tag is found\n",
    "\n",
    "# Apply lemmatization to the 'Original_Tweets' column\n",
    "processed_twitter['Lemm_Tweets'] = processed_twitter['Original_Tweets'].apply(lemmatize_text)\n",
    "\n",
    "# Display the updated DataFrame\n",
    "processed_twitter.head(10)"
   ]
  },
  {
   "cell_type": "markdown",
   "id": "e07358a4-1235-4e7a-b383-0d8891989d60",
   "metadata": {},
   "source": [
    "## Topic Modelling with LDA (NLTK)"
   ]
  },
  {
   "cell_type": "code",
   "execution_count": 17,
   "id": "ce9b583b-7166-4270-9579-42fff1762f3b",
   "metadata": {},
   "outputs": [
    {
     "name": "stdout",
     "output_type": "stream",
     "text": [
      "book + open + wait + We + plane\n",
      "get + like + Thanks + day + ask\n",
      "flight + The + update + Please + security\n",
      "airport + travel + security + Hi + morning\n",
      "need + fly + Its + ask + book\n",
      "I + love + travel + ask + book\n",
      "hour + go + morning + park + back\n",
      "please + time + take + You + today\n",
      "people + terminal + one + queue + What\n",
      "would + still + ask + like + book\n"
     ]
    }
   ],
   "source": [
    "from gensim import corpora, models\n",
    "from pprint import pprint\n",
    "import string\n",
    "\n",
    "# Convert the column to the list\n",
    "\n",
    "documents = processed_twitter['Lemm_Tweets'].tolist()\n",
    "\n",
    "# Tokenize and remove punctuation\n",
    "translator = str.maketrans(\"\", \"\", string.punctuation)\n",
    "tokenized_documents = [\n",
    "    [\n",
    "        token.translate(translator)\n",
    "        for token in nltk.word_tokenize(doc)\n",
    "        if token.isalpha() and token not in stop_words\n",
    "    ]\n",
    "    for doc in documents\n",
    "]\n",
    "\n",
    "# Create a dictionary representation of the documents\n",
    "dict = corpora.Dictionary(tokenized_documents)\n",
    "\n",
    "# Filter out tokens that appear in less than 5 documents or more than 80% of the documents\n",
    "dict.filter_extremes(no_below = 500, no_above = 0.8)\n",
    "\n",
    "# Create a bag-of-words representation of the documents\n",
    "corpus = [dict.doc2bow(doc) for doc in tokenized_documents]\n",
    "\n",
    "# Train the LDA model\n",
    "lda_model = models.LdaModel(corpus, num_topics = 10, id2word=dict, passes = 15)\n",
    "\n",
    "# Print the topics and their top words\n",
    "topics = lda_model.print_topics(num_words = 5)\n",
    "for topic in topics:\n",
    "    words = [word.split(\"*\")[1].strip().strip('\"') for word in topic[1].split(\"+\")]\n",
    "    print(' + '.join(words))\n",
    "\n",
    "# Assign topics to each document\n",
    "processed_twitter['LDA_Topic'] = [max(lda_model[doc], key=lambda x: x[1])[0] for doc in corpus]"
   ]
  }
 ],
 "metadata": {
  "kernelspec": {
   "display_name": "Python 3 (ipykernel)",
   "language": "python",
   "name": "python3"
  },
  "language_info": {
   "codemirror_mode": {
    "name": "ipython",
    "version": 3
   },
   "file_extension": ".py",
   "mimetype": "text/x-python",
   "name": "python",
   "nbconvert_exporter": "python",
   "pygments_lexer": "ipython3",
   "version": "3.9.18"
  }
 },
 "nbformat": 4,
 "nbformat_minor": 5
}
